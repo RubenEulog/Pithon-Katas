{
 "cells": [
  {
   "cell_type": "code",
   "execution_count": null,
   "metadata": {},
   "outputs": [],
   "source": [
    "planets=['Mercurio', 'Venus', 'Tierra','Marte','Jupiter','Saturno', 'Urano', 'Neptuno']\n",
    "planets.append('Pluton')\n",
    "print(\"El último planeta en el sistema solar es\",planets[8] +\" y es el numero \", len(planets))\n"
   ]
  },
  {
   "cell_type": "code",
   "execution_count": null,
   "metadata": {},
   "outputs": [],
   "source": [
    "planets=['Mercurio', 'Venus', 'Tierra','Marte','Jupiter','Saturno', 'Urano', 'Neptuno']\n",
    "x=input(\"Da un nombre del planeta. Nota: recuerda la primera letra en Mayus\")\n",
    "y=planets.index(x)\n",
    "print(\"Los planetas mas cercanos que \"+ x + \" al Sol son: \", planets[0:y])\n",
    "print(\"Los planetas mas lejanos que \"+ x + \" al Sol son: \", planets[y+1:])"
   ]
  }
 ],
 "metadata": {
  "interpreter": {
   "hash": "ed059ed79af9e4a6db7baa9399fc163dd008562949de875971e989ceae2e32c5"
  },
  "kernelspec": {
   "display_name": "Python 3.9.10 64-bit",
   "language": "python",
   "name": "python3"
  },
  "language_info": {
   "codemirror_mode": {
    "name": "ipython",
    "version": 3
   },
   "file_extension": ".py",
   "mimetype": "text/x-python",
   "name": "python",
   "nbconvert_exporter": "python",
   "pygments_lexer": "ipython3",
   "version": "3.9.10"
  },
  "orig_nbformat": 4
 },
 "nbformat": 4,
 "nbformat_minor": 2
}
