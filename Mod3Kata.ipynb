{
 "cells": [
  {
   "cell_type": "code",
   "execution_count": null,
   "metadata": {},
   "outputs": [],
   "source": [
    "v=49\n",
    "if v > 25:\n",
    "    print(\"Peligro asteroide aproximandose a \" + str(v) + \"Km/s\")\n",
    "else:\n",
    "    print(\"Todo bien! ten un gran día\")\n"
   ]
  },
  {
   "cell_type": "code",
   "execution_count": null,
   "metadata": {},
   "outputs": [],
   "source": [
    "v=19\n",
    "if v >=20:\n",
    "    print(\"Busca la luz misteriosa en el cielo\")\n",
    "else:\n",
    "    print(\"No hay nada que ver\")"
   ]
  },
  {
   "cell_type": "code",
   "execution_count": null,
   "metadata": {},
   "outputs": [],
   "source": [
    "v=8\n",
    "t=25\n",
    "if v>25 or t>=25:\n",
    "    print(\"Peligro asteroide aproximandose a la Tierra\")\n",
    "elif t<25 and v<20:\n",
    "    print(\"Todo bien! ten un gran día\")\n",
    "elif v>=20 and v<=25:\n",
    "    print(\"Busca la luz misteriosa en el cielo\")\n",
    "\n",
    "\n",
    "\n"
   ]
  }
 ],
 "metadata": {
  "interpreter": {
   "hash": "ed059ed79af9e4a6db7baa9399fc163dd008562949de875971e989ceae2e32c5"
  },
  "kernelspec": {
   "display_name": "Python 3.9.10 64-bit",
   "language": "python",
   "name": "python3"
  },
  "language_info": {
   "codemirror_mode": {
    "name": "ipython",
    "version": 3
   },
   "file_extension": ".py",
   "mimetype": "text/x-python",
   "name": "python",
   "nbconvert_exporter": "python",
   "pygments_lexer": "ipython3",
   "version": "3.9.10"
  },
  "orig_nbformat": 4
 },
 "nbformat": 4,
 "nbformat_minor": 2
}
