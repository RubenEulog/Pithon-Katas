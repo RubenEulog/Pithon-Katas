{
 "cells": [
  {
   "cell_type": "code",
   "execution_count": null,
   "metadata": {},
   "outputs": [],
   "source": [
    "Tierra=149597.870\n",
    "Jupiter=778547.200\n",
    "#\"Restarás el primer planeta del segundo para determinar la distancia en kilómetros\"\n",
    "distancia=Tierra-Jupiter\n",
    "distanciamill=distancia*0.621\n",
    "print(\"La distancia entre planetas es: \" + str(distancia) + \" km\")\n",
    "print(\"La distancia entre planetas es: \" + str(distanciamill) + \" millas\")\n"
   ]
  },
  {
   "cell_type": "code",
   "execution_count": null,
   "metadata": {},
   "outputs": [],
   "source": [
    "x=input(\"¿Que distancia tiene el planeta?\")\n",
    "y=input(\"¿Que distancia tiene el segundo planeta?\")\n",
    "d1=int(x)\n",
    "d2=int(y)\n",
    "distancia=d1-d2\n",
    "tdistancia=abs(distancia)\n",
    "distanciamill=tdistancia*0.621\n",
    "print(\"La distancia entre planetas es: \" + str(tdistancia) + \" km\")\n",
    "print(\"La distancia entre planetas es: \" + str(distanciamill) + \" millas\")"
   ]
  }
 ],
 "metadata": {
  "interpreter": {
   "hash": "ed059ed79af9e4a6db7baa9399fc163dd008562949de875971e989ceae2e32c5"
  },
  "kernelspec": {
   "display_name": "Python 3.9.10 64-bit",
   "language": "python",
   "name": "python3"
  },
  "language_info": {
   "codemirror_mode": {
    "name": "ipython",
    "version": 3
   },
   "file_extension": ".py",
   "mimetype": "text/x-python",
   "name": "python",
   "nbconvert_exporter": "python",
   "pygments_lexer": "ipython3",
   "version": "3.9.10"
  },
  "orig_nbformat": 4
 },
 "nbformat": 4,
 "nbformat_minor": 2
}
