{
 "cells": [
  {
   "cell_type": "code",
   "execution_count": null,
   "metadata": {},
   "outputs": [],
   "source": [
    "def combustible(tanque1,tanque2,tanque3):\n",
    "    promedio= (tanque1+tanque2+tanque3)/3\n",
    "    return f\"\"\"Reporte de combustible:\n",
    "    tanque 1: {tanque1}\n",
    "    tanque 2: {tanque2}\n",
    "    tanque 3: {tanque3}\n",
    "    Promedio total: {promedio} litros\n",
    "    \"\"\"\n",
    "print(combustible(2, 7, 10))\n",
    "\n",
    "def prom(values):\n",
    "    total = sum(values)\n",
    "    tanques = len(values)\n",
    "    return total / tanques\n",
    "\n",
    "prom([25, 30, 50])\n",
    "\n",
    "def combustible2(tanque1,tanque2,tanque3):\n",
    "\n",
    "    return f\"\"\"Reporte de combustible:\n",
    "    tanque 1: {tanque1}\n",
    "    tanque 2: {tanque2}\n",
    "    tanque 3: {tanque3}\n",
    "    Promedio total: {prom([tanque1,tanque2,tanque3])} litros\n",
    "    \"\"\"\n",
    "\n",
    "print(combustible2(2, 7, 10))"
   ]
  },
  {
   "cell_type": "code",
   "execution_count": null,
   "metadata": {},
   "outputs": [],
   "source": [
    "\n",
    "def reporte_final(hora_prelanzamiento, tiempo_vuelo, destino, tanque_externo, tanque_interno):\n",
    "    return f\"\"\"\n",
    "    Mision a {destino}\n",
    "    Tiempo total de viaje: {hora_prelanzamiento + tiempo_vuelo} minutos\n",
    "    Gas total: {tanque_externo + tanque_interno} litros\n",
    "    \"\"\" \n",
    "print(reporte_final(14, 51, \"Venus\", 2, 5))\n",
    "\n",
    "\n",
    "\n",
    "def reporte_final2(destino,*minutos,**gas):\n",
    "    z= f\"\"\"\n",
    "    Mision a {destino}\n",
    "    Tiempo total de viaje: {sum(minutos)} minutos\n",
    "    Gas total: {sum(gas.values())} litros\n",
    "    \"\"\"\n",
    "    for ntanque, litros in gas.items():\n",
    "        z += f\"Tanque {ntanque}  --> {litros}litros \\n\"\n",
    "    return z\n",
    "\n",
    "print(reporte_final2(\"Venus\", 2, 5, 10, interno=100, externo=20))\n",
    "\n"
   ]
  }
 ],
 "metadata": {
  "interpreter": {
   "hash": "ed059ed79af9e4a6db7baa9399fc163dd008562949de875971e989ceae2e32c5"
  },
  "kernelspec": {
   "display_name": "Python 3.9.10 64-bit",
   "language": "python",
   "name": "python3"
  },
  "language_info": {
   "codemirror_mode": {
    "name": "ipython",
    "version": 3
   },
   "file_extension": ".py",
   "mimetype": "text/x-python",
   "name": "python",
   "nbconvert_exporter": "python",
   "pygments_lexer": "ipython3",
   "version": "3.9.10"
  },
  "orig_nbformat": 4
 },
 "nbformat": 4,
 "nbformat_minor": 2
}
